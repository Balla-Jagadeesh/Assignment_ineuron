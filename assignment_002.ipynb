{
 "cells": [
  {
   "cell_type": "markdown",
   "id": "1fabf3c1",
   "metadata": {},
   "source": [
    "# 1.What is indentation error? Why indentation is important? Give one simple example?\n",
    "\n",
    "Ans:The indentation error can occur when the spaces  are not placed .\n",
    "    The indentation is readability of the code .\n",
    "    Improves the readability of the code. It is mainly used for code inside looping statements, control structures, functions etc. "
   ]
  },
  {
   "cell_type": "code",
   "execution_count": 2,
   "id": "a84d0e0d",
   "metadata": {},
   "outputs": [
    {
     "ename": "IndentationError",
     "evalue": "expected an indented block (3033405874.py, line 4)",
     "output_type": "error",
     "traceback": [
      "\u001b[1;36m  Input \u001b[1;32mIn [2]\u001b[1;36m\u001b[0m\n\u001b[1;33m    print(\"power button on\") # This statement exected an indentation block\u001b[0m\n\u001b[1;37m    ^\u001b[0m\n\u001b[1;31mIndentationError\u001b[0m\u001b[1;31m:\u001b[0m expected an indented block\n"
     ]
    }
   ],
   "source": [
    "switch = True\n",
    "\n",
    "if switch: # TRUE CONDITION \n",
    "print(\"power button on\") # statements not alligned properly will give indentation error\n",
    "else:\n",
    "    print(\"power button off\")"
   ]
  },
  {
   "cell_type": "code",
   "execution_count": 3,
   "id": "a096ad2b",
   "metadata": {},
   "outputs": [
    {
     "name": "stdout",
     "output_type": "stream",
     "text": [
      "power button on\n"
     ]
    }
   ],
   "source": [
    "switch = True\n",
    "\n",
    "if switch: # TRUE CONDITION \n",
    "       print(\"power button on\") # this statement is exectuted\n",
    "else:\n",
    "    print(\"power button off\")"
   ]
  },
  {
   "cell_type": "markdown",
   "id": "fe5de648",
   "metadata": {},
   "source": [
    "# 2.Correct the following code and write the comment where you made the correction?"
   ]
  },
  {
   "cell_type": "code",
   "execution_count": 57,
   "id": "b53ca644",
   "metadata": {},
   "outputs": [
    {
     "name": "stdout",
     "output_type": "stream",
     "text": [
      "Hey friend, is class started?: [0-False/1-True]0\n",
      "Since class started...\n",
      "Lets concentrate\n",
      "Since class is not started...\n",
      "let's revise\n"
     ]
    }
   ],
   "source": [
    "class_started = bool(input(\"Hey friend, is class started?: [0-False/1-True]\"))\n",
    "if class_started:\n",
    "   print(\"Since class started...\")\n",
    "   print(\"Lets concentrate\")\n",
    "else:\n",
    "   print(\"Since class is not started...\")\n",
    "   print(\"let's revise\") \n",
    "if not  class_started:\n",
    "   print(\"Since class started...\")\n",
    "   print(\"Lets concentrate\")\n",
    "else:\n",
    "   print(\"Since class is not started...\")\n",
    "   print(\"let's revise\") "
   ]
  },
  {
   "cell_type": "markdown",
   "id": "1ebe3ffd",
   "metadata": {},
   "source": [
    "# 3 Use if else condition to verify that datatype of input() method in python is always string"
   ]
  },
  {
   "cell_type": "code",
   "execution_count": 82,
   "id": "bcbb28b6",
   "metadata": {},
   "outputs": [
    {
     "name": "stdout",
     "output_type": "stream",
     "text": [
      "data type before: <class 'str'>, value of A: Sunny\n",
      "data type after: <class 'bool'>, value of A: True\n"
     ]
    }
   ],
   "source": [
    "# string to boolean\n",
    "A = \"Sunny\"\n",
    "print(f\"data type before: {type(A)}, value of A: {A}\")\n",
    "A =bool(A)\n",
    "print(f\"data type after: {type(A)}, value of A: {A}\")"
   ]
  },
  {
   "cell_type": "markdown",
   "id": "7bee1e88",
   "metadata": {},
   "source": [
    "# 4.Take 3 variables and assign integer values to them. Find the largest variable, by only using the if and else conditions.\n"
   ]
  },
  {
   "cell_type": "code",
   "execution_count": 81,
   "id": "7ed5e2c1",
   "metadata": {},
   "outputs": [
    {
     "name": "stdout",
     "output_type": "stream",
     "text": [
      "Telugu subject markes : 75\n",
      "English subject markes : 40\n",
      "Hindi subject marke : 30\n",
      "The student getting height markes in Telugu subject\n"
     ]
    }
   ],
   "source": [
    "Telugu= 75\n",
    "English = 40\n",
    "Hindi = 30\n",
    "\n",
    "print(f\"Telugu subject markes : {Telugu}\")\n",
    "print(f\"English subject markes : {English}\")\n",
    "print(f\"Hindi subject marke : {Hindi}\")\n",
    "\n",
    "if Telugu <= 75 and English >= 30:\n",
    "    if Hindi:\n",
    "        print(\"The student getting height markes in Telugu subject\")\n",
    "    else:\n",
    "        print(\"The student getting normal markes in English subject \")\n",
    "else:\n",
    "    print(\"The student getting less markes in Hindi subject\")"
   ]
  },
  {
   "cell_type": "code",
   "execution_count": 94,
   "id": "46b71713",
   "metadata": {},
   "outputs": [
    {
     "name": "stdout",
     "output_type": "stream",
     "text": [
      "False\n"
     ]
    }
   ],
   "source": [
    " #5 What would be the solution?\n",
    "\n",
    "a = 6\n",
    "b = 10\n",
    "print( not ( not a == 10 or not b == 10) )"
   ]
  },
  {
   "cell_type": "markdown",
   "id": "87089230",
   "metadata": {},
   "source": [
    "# 6.Find the answer as well as find out the reason behind the result? "
   ]
  },
  {
   "cell_type": "code",
   "execution_count": 120,
   "id": "2d8edc0f",
   "metadata": {},
   "outputs": [
    {
     "name": "stdout",
     "output_type": "stream",
     "text": [
      "False\n",
      "overall value: 5.0/5.0 is 10.0\n",
      "print data type:<class 'float'>\n"
     ]
    }
   ],
   "source": [
    "A = 5.0\n",
    "B = 10/2\n",
    "print(A is B)\n",
    "value = A+B\n",
    "print(f\"overall value: {A}/{B} is {value}\")\n",
    "print(f\"print data type:{type(A+B)}\")\n",
    "# Reason:  \n",
    "#IS:return True if A and B points to the same object\n",
    "#array in other language A is B"
   ]
  },
  {
   "cell_type": "code",
   "execution_count": 125,
   "id": "f6384969",
   "metadata": {},
   "outputs": [
    {
     "name": "stdout",
     "output_type": "stream",
     "text": [
      "True\n",
      "overall value: 5.0/5=10.0\n",
      "print data type:<class 'float'>\n"
     ]
    }
   ],
   "source": [
    "A = 5.0\n",
    "B = int(10/2)\n",
    "print(A is not B)\n",
    "value = A+B\n",
    "print(f\"overall value: {A}/{B}={value}\")\n",
    "print(f\"print data type:{type(A+B)}\")\n",
    "#IS not :returns True if A and B do not points to the same object"
   ]
  },
  {
   "cell_type": "code",
   "execution_count": 115,
   "id": "95b3fa6b",
   "metadata": {},
   "outputs": [
    {
     "name": "stdout",
     "output_type": "stream",
     "text": [
      "False\n",
      "print data tyoe:<class 'float'>\n"
     ]
    }
   ],
   "source": [
    "A = 5.0\n",
    "B = float(10/2)\n",
    "print(A is B)\n",
    "print(f\"print data tyoe:{type(A+B)}\")\n",
    "#IS:return True if A and B points to the same object"
   ]
  },
  {
   "cell_type": "markdown",
   "id": "fb2ec199",
   "metadata": {},
   "source": [
    "# 7.Write a program that asks the user to enter a number. You should print out a message to the user, either “That number is divisible by either 3 or 5”, or “That number is not divisible by either 3 or 5”. Be sure to consider the data type of the input you are taking in from the user. Use a single if/else block to solve this problem."
   ]
  },
  {
   "cell_type": "code",
   "execution_count": null,
   "id": "0d35120d",
   "metadata": {},
   "outputs": [],
   "source": [
    "num = int(input(\"Please enter a number: \"))\n",
    "if num % 3 == 0 or num % 5 == 0:\n",
    "    print(\"That number is divisible by either 3 or 5\")\n",
    "else:\n",
    "    print(\"That number is not divisible by either 3 or 5\")"
   ]
  },
  {
   "cell_type": "markdown",
   "id": "7208efdf",
   "metadata": {},
   "source": [
    "# 8.Take user input for length and width. Then calculate the area of rectangle. Also print as per length and width whether its a square of rectangle.\n"
   ]
  },
  {
   "cell_type": "code",
   "execution_count": 131,
   "id": "5bd1ddce",
   "metadata": {},
   "outputs": [
    {
     "name": "stdout",
     "output_type": "stream",
     "text": [
      "enter the length of the rectangle:20\n",
      "enter the width of the rectangle:25\n",
      "enter the Square of rectangle:500\n"
     ]
    }
   ],
   "source": [
    "length =int(input(\"enter the length of the rectangle:\"))\n",
    "width =int(input(\"enter the width of the rectangle:\"))\n",
    "Area=length*width\n",
    "print(f\"enter the Square of rectangle:{Area}\")"
   ]
  },
  {
   "cell_type": "markdown",
   "id": "80f6d00a",
   "metadata": {},
   "source": [
    "# 9.Take two variable radius_1 and radius_2 and calculate the area of circle_1 and circle_2. Also print which circle has large area. If area is equal then print area is equal."
   ]
  },
  {
   "cell_type": "code",
   "execution_count": 154,
   "id": "0136e51d",
   "metadata": {},
   "outputs": [
    {
     "name": "stdout",
     "output_type": "stream",
     "text": [
      "enter the radius_1:6\n",
      "enter the radius_2:4\n",
      "circle_1 has large area\n"
     ]
    }
   ],
   "source": [
    "radius_1=input(\"enter the radius_1:\")\n",
    "radius_2=input(\"enter the radius_2:\")\n",
    "rad1=(radius_1*2)*2\n",
    "rad2=(radius_2*2)*2\n",
    "pi=3.14\n",
    "area_1=(int(pi)*rad1)\n",
    "area_2=(int(pi)*rad2)\n",
    "if (area_1>area_2):\n",
    "    print(\"circle_1 has large area\")\n",
    "elif(area_1<area_2):\n",
    "    print(\"circle_2 has large area\")\n",
    "else:\n",
    "    print(\"area is equal\")"
   ]
  },
  {
   "cell_type": "markdown",
   "id": "75bff357",
   "metadata": {},
   "source": [
    "# 10.Check whether a year is leap year or not. Use nested if...else to solve this problem. A leap year is exactly divisible by 4 except for century years (years ending with 00). The century year is a leap year only if it is perfectly divisible by 400."
   ]
  },
  {
   "cell_type": "code",
   "execution_count": null,
   "id": "3454d019",
   "metadata": {},
   "outputs": [],
   "source": [
    "year = int(input(\"Enter a year: \"))\n",
    "\n",
    "if (year % 4) == 0:\n",
    "   if (year % 100) == 0:\n",
    "       if (year % 400) == 0:\n",
    "           print(\"{0} is a leap year\".format(year))\n",
    "       else:\n",
    "           print(\"{0} is not a leap year\".format(year))\n",
    "   else:\n",
    "       print(\"{0} is a leap year\".format(year))\n",
    "else:\n",
    "   print(\"{0} is not a leap year\".format(year))"
   ]
  },
  {
   "cell_type": "code",
   "execution_count": null,
   "id": "e0a67e33",
   "metadata": {},
   "outputs": [],
   "source": []
  },
  {
   "cell_type": "code",
   "execution_count": null,
   "id": "678db6b3",
   "metadata": {},
   "outputs": [],
   "source": []
  },
  {
   "cell_type": "code",
   "execution_count": null,
   "id": "e3355777",
   "metadata": {},
   "outputs": [],
   "source": []
  }
 ],
 "metadata": {
  "kernelspec": {
   "display_name": "Python 3 (ipykernel)",
   "language": "python",
   "name": "python3"
  },
  "language_info": {
   "codemirror_mode": {
    "name": "ipython",
    "version": 3
   },
   "file_extension": ".py",
   "mimetype": "text/x-python",
   "name": "python",
   "nbconvert_exporter": "python",
   "pygments_lexer": "ipython3",
   "version": "3.9.12"
  }
 },
 "nbformat": 4,
 "nbformat_minor": 5
}

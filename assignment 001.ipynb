{
 "cells": [
  {
   "cell_type": "markdown",
   "id": "fc5d6448",
   "metadata": {},
   "source": [
    "# 1. Find out all the types of error that we have encountered in our lecture and why? Also include the examples."
   ]
  },
  {
   "cell_type": "code",
   "execution_count": 2,
   "id": "623810ce",
   "metadata": {},
   "outputs": [
    {
     "ename": "IndentationError",
     "evalue": "expected an indented block (3033405874.py, line 4)",
     "output_type": "error",
     "traceback": [
      "\u001b[1;36m  Input \u001b[1;32mIn [2]\u001b[1;36m\u001b[0m\n\u001b[1;33m    print(\"power button on\") # This statement exected an indentation block\u001b[0m\n\u001b[1;37m    ^\u001b[0m\n\u001b[1;31mIndentationError\u001b[0m\u001b[1;31m:\u001b[0m expected an indented block\n"
     ]
    }
   ],
   "source": [
    "switch = True\n",
    "\n",
    "if switch: # TRUE CONDITION \n",
    "print(\"power button on\") # statements not alligned properly will give indentation error\n",
    "else:\n",
    "    print(\"power button off\")"
   ]
  },
  {
   "cell_type": "code",
   "execution_count": 7,
   "id": "54159098",
   "metadata": {},
   "outputs": [
    {
     "ename": "NameError",
     "evalue": "name 'Print' is not defined",
     "output_type": "error",
     "traceback": [
      "\u001b[1;31m---------------------------------------------------------------------------\u001b[0m",
      "\u001b[1;31mNameError\u001b[0m                                 Traceback (most recent call last)",
      "Input \u001b[1;32mIn [7]\u001b[0m, in \u001b[0;36m<cell line: 2>\u001b[1;34m()\u001b[0m\n\u001b[0;32m      1\u001b[0m \u001b[38;5;66;03m#name error\u001b[39;00m\n\u001b[1;32m----> 2\u001b[0m \u001b[43mPrint\u001b[49m(\u001b[38;5;124m\"\u001b[39m\u001b[38;5;124mwell come to python world\u001b[39m\u001b[38;5;124m\"\u001b[39m)\n",
      "\u001b[1;31mNameError\u001b[0m: name 'Print' is not defined"
     ]
    }
   ],
   "source": [
    "#name error because print must lower case\n",
    "Print(\"well come to python world\")"
   ]
  },
  {
   "cell_type": "code",
   "execution_count": 9,
   "id": "14808f66",
   "metadata": {},
   "outputs": [
    {
     "ename": "SyntaxError",
     "evalue": "Missing parentheses in call to 'print'. Did you mean print(\"hello hi\")? (2047712733.py, line 2)",
     "output_type": "error",
     "traceback": [
      "\u001b[1;36m  Input \u001b[1;32mIn [9]\u001b[1;36m\u001b[0m\n\u001b[1;33m    print \"hello hi\"\u001b[0m\n\u001b[1;37m          ^\u001b[0m\n\u001b[1;31mSyntaxError\u001b[0m\u001b[1;31m:\u001b[0m Missing parentheses in call to 'print'. Did you mean print(\"hello hi\")?\n"
     ]
    }
   ],
   "source": [
    "#syntax error \n",
    "print \"hello hi\"\n"
   ]
  },
  {
   "cell_type": "code",
   "execution_count": 13,
   "id": "d2af446e",
   "metadata": {},
   "outputs": [
    {
     "ename": "TypeError",
     "evalue": "can only concatenate str (not \"float\") to str",
     "output_type": "error",
     "traceback": [
      "\u001b[1;31m---------------------------------------------------------------------------\u001b[0m",
      "\u001b[1;31mTypeError\u001b[0m                                 Traceback (most recent call last)",
      "Input \u001b[1;32mIn [13]\u001b[0m, in \u001b[0;36m<cell line: 1>\u001b[1;34m()\u001b[0m\n\u001b[1;32m----> 1\u001b[0m \u001b[38;5;124;43m\"\u001b[39;49m\u001b[38;5;124;43m \u001b[39;49m\u001b[38;5;124;43m\"\u001b[39;49m\u001b[43m \u001b[49m\u001b[38;5;241;43m+\u001b[39;49m\u001b[43m \u001b[49m\u001b[38;5;241;43m.2\u001b[39;49m\n",
      "\u001b[1;31mTypeError\u001b[0m: can only concatenate str (not \"float\") to str"
     ]
    }
   ],
   "source": [
    "\" \" + .2"
   ]
  },
  {
   "cell_type": "markdown",
   "id": "b1250e83",
   "metadata": {},
   "source": [
    "# 2.\tTake input A and B and print their sum, mul, div, square of the nos."
   ]
  },
  {
   "cell_type": "code",
   "execution_count": 16,
   "id": "68b772ff",
   "metadata": {},
   "outputs": [
    {
     "data": {
      "text/plain": [
       "7.5"
      ]
     },
     "execution_count": 16,
     "metadata": {},
     "output_type": "execute_result"
    }
   ],
   "source": [
    "A=5\n",
    "B=2.5\n",
    "#sum\n",
    "A+B"
   ]
  },
  {
   "cell_type": "code",
   "execution_count": 17,
   "id": "0d6e9abc",
   "metadata": {},
   "outputs": [
    {
     "data": {
      "text/plain": [
       "12.5"
      ]
     },
     "execution_count": 17,
     "metadata": {},
     "output_type": "execute_result"
    }
   ],
   "source": [
    "#mul\n",
    "A*B"
   ]
  },
  {
   "cell_type": "code",
   "execution_count": 18,
   "id": "6699d06c",
   "metadata": {},
   "outputs": [
    {
     "data": {
      "text/plain": [
       "2.0"
      ]
     },
     "execution_count": 18,
     "metadata": {},
     "output_type": "execute_result"
    }
   ],
   "source": [
    "#div\n",
    "A/B"
   ]
  },
  {
   "cell_type": "code",
   "execution_count": 22,
   "id": "a8cd97c1",
   "metadata": {},
   "outputs": [
    {
     "name": "stdout",
     "output_type": "stream",
     "text": [
      "25\n"
     ]
    }
   ],
   "source": [
    "#square of the number\n",
    "A =5\n",
    "B=5\n",
    "sqr = A * B\n",
    "\n",
    "print(sqr)"
   ]
  },
  {
   "cell_type": "markdown",
   "id": "c434385b",
   "metadata": {},
   "source": [
    "# 3.\tHow many reserve keywords are there in python and why we should not use them as a variable name."
   ]
  },
  {
   "cell_type": "markdown",
   "id": "accd337f",
   "metadata": {},
   "source": [
    " \"and\", \"class\",  \"del\", \"elif\", \"else\", \"if\", \"import\",  \"is\",  \"not\", \"or\",  \"print\",  \"return\", \"try\",.  "
   ]
  },
  {
   "cell_type": "markdown",
   "id": "5a7131cd",
   "metadata": {},
   "source": [
    "# 4.\tCreate email ids with the user inputs. in the following format - lastname.firstname@gmail.com"
   ]
  },
  {
   "cell_type": "code",
   "execution_count": 23,
   "id": "a1f9c63a",
   "metadata": {},
   "outputs": [
    {
     "name": "stdout",
     "output_type": "stream",
     "text": [
      "enter lastnamereddy\n",
      "enter firstnameramu\n",
      "reddy.ramu@gmail.com\n"
     ]
    }
   ],
   "source": [
    "lastname=input(\"enter lastname\")\n",
    "firstname=input(\"enter firstname\")\n",
    "print(f\"{lastname}.{firstname}@gmail.com\")\n",
    "\n"
   ]
  },
  {
   "cell_type": "markdown",
   "id": "1115a2bc",
   "metadata": {},
   "source": [
    "# 5.\tTry to print the following lines - \n",
    "o\tHi I'm Sunny\n",
    "o\tMy address is 22\\3\n",
    "o\tI earn 20$ daily.\n"
   ]
  },
  {
   "cell_type": "code",
   "execution_count": 25,
   "id": "e24f79a0",
   "metadata": {},
   "outputs": [
    {
     "name": "stdout",
     "output_type": "stream",
     "text": [
      "\n",
      "Hi I'm :ramu\n",
      "my address is: ABCD\n",
      "I earn: 20$ daily\n",
      "\n"
     ]
    }
   ],
   "source": [
    "name,address,amount=\"ramu\",\"ABCD\",\"20$\"\n",
    "print(f\"\"\"\n",
    "Hi I'm :{name}\n",
    "my address is: {address}\n",
    "I earn: {amount} daily\n",
    "\"\"\")"
   ]
  },
  {
   "cell_type": "markdown",
   "id": "8d39b6a2",
   "metadata": {},
   "source": [
    "# 6.\tTake user input (name, address, date of birth etc) to fill a form for your college and print their email IDs"
   ]
  },
  {
   "cell_type": "code",
   "execution_count": 28,
   "id": "bcf19b9c",
   "metadata": {},
   "outputs": [
    {
     "name": "stdout",
     "output_type": "stream",
     "text": [
      "name: ramu\n",
      "address abcd\n",
      "date_of_birth: 2008\n",
      "\n",
      "My name is: ramu\n",
      "I live at: abcd\n",
      "MY Date_of_birth: 2008\n",
      "\n",
      "enter email id:ramu@gmail.com\n",
      "this is my email:ramu@gmail.com\n"
     ]
    }
   ],
   "source": [
    "Name = input(\"name: \") \n",
    "Address = input(\"address \")\n",
    "Date_of_birth = input(\"date_of_birth: \") \n",
    "\n",
    "\n",
    "print(f\"\"\"\n",
    "My name is: {Name}\n",
    "I live at: {Address}\n",
    "MY Date_of_birth: {Date_of_birth}\n",
    "\"\"\")\n",
    "email=input(\"enter email id:\")\n",
    "print(f\"this is my email:{email}\")# f -> formatted string method"
   ]
  },
  {
   "cell_type": "markdown",
   "id": "1718e7bc",
   "metadata": {},
   "source": [
    "# 7.\tConvert the following -\n",
    "o\t\"22.4\" into integer\n",
    "o\t\"22\" into complex no.\n"
   ]
  },
  {
   "cell_type": "code",
   "execution_count": 33,
   "id": "40ebccf8",
   "metadata": {},
   "outputs": [
    {
     "name": "stdout",
     "output_type": "stream",
     "text": [
      "data type before: <class 'float'>, value of cible score: 50.22\n",
      "data type after: <class 'int'>, value of A: 50\n"
     ]
    }
   ],
   "source": [
    "cible_score  = 50.22\n",
    "print(f\"data type before: {type(cible_score)}, value of cible score: {cible_score}\")#float \n",
    "score = int(cible_score)\n",
    "print(f\"data type after: {type(score)}, value of A: {score}\")#integer"
   ]
  },
  {
   "cell_type": "code",
   "execution_count": 35,
   "id": "32870dd6",
   "metadata": {},
   "outputs": [
    {
     "name": "stdout",
     "output_type": "stream",
     "text": [
      "data type before: <class 'int'>, value of A: 5\n",
      "data type after: <class 'complex'>, value of A: (5+0j)\n"
     ]
    }
   ],
   "source": [
    "p = 5\n",
    "print(f\"data type before: {type(p)}, value of A: {p}\")\n",
    "Q = complex(p)\n",
    "print(f\"data type after: {type(Q)}, value of A: {Q}\")"
   ]
  },
  {
   "cell_type": "code",
   "execution_count": null,
   "id": "cb3acd8a",
   "metadata": {},
   "outputs": [],
   "source": []
  }
 ],
 "metadata": {
  "kernelspec": {
   "display_name": "Python 3 (ipykernel)",
   "language": "python",
   "name": "python3"
  },
  "language_info": {
   "codemirror_mode": {
    "name": "ipython",
    "version": 3
   },
   "file_extension": ".py",
   "mimetype": "text/x-python",
   "name": "python",
   "nbconvert_exporter": "python",
   "pygments_lexer": "ipython3",
   "version": "3.9.12"
  }
 },
 "nbformat": 4,
 "nbformat_minor": 5
}
